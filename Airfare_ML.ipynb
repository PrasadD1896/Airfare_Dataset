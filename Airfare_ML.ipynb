{
 "cells": [
  {
   "cell_type": "markdown",
   "id": "bd5fdff7",
   "metadata": {},
   "source": [
    "# Exploratory Data Analysis on Airfare Dataset"
   ]
  },
  {
   "cell_type": "markdown",
   "id": "edcc7773",
   "metadata": {},
   "source": [
    "## Author : Prasad Deshmukh\n",
    "## Contact : \n",
    "##                LinkedIn: https://www.linkedin.com/in/prasad-deshmukh-b55b51221\n",
    "##                GitHub : https://github.com/PrasadD1896\n",
    "##                Medium : https://medium.com/@prasaddeshmukh1896"
   ]
  },
  {
   "cell_type": "markdown",
   "id": "e73b127c",
   "metadata": {},
   "source": [
    "## Brief Introduction to Indian Airlines:"
   ]
  },
  {
   "cell_type": "markdown",
   "id": "e9fb3342",
   "metadata": {},
   "source": [
    " The airline industry in India has undergone significant growth and changes over the past few decades. India's airline industry started with the government-owned carrier Air India in 1932. However, it wasn't until the 1990s that  the industry began to see significant growth with the entry of private airlines such as Jet Airways, IndiGo, and SpiceJet. India's airline industry is dominated by two major players - IndiGo and SpiceJet - which together account for more than 60% of the market share. There are also several smaller airlines such as Vistara and AirAsia India, as well as the Air India. Technology plays an increasingly important role in India's airline industry, with airlines using online booking systems, mobile apps, and social media to reach customers. The use of data analytics and artificial intelligence is also becoming more common, with airlines using these tools to optimize routes, pricing, and other aspects of their business."
   ]
  },
  {
   "cell_type": "markdown",
   "id": "1f9d4814",
   "metadata": {},
   "source": [
    "The given dataset describes the passanger bookings for different airlines."
   ]
  },
  {
   "cell_type": "markdown",
   "id": "3d7a8253",
   "metadata": {},
   "source": [
    "It includes following parameters:"
   ]
  },
  {
   "cell_type": "markdown",
   "id": "a3c23720",
   "metadata": {},
   "source": [
    "1. Date of Booking\n",
    "2. Date of Journey\n",
    "3. Airline Class\n",
    "4. Departure Time\n",
    "5. Arrival Time\n",
    "7. Total Stops\n",
    "8. Price"
   ]
  },
  {
   "cell_type": "markdown",
   "id": "88aba7ac",
   "metadata": {},
   "source": [
    "Here we are going to analyze the entire dataset using different python tools and different statistical methods. "
   ]
  },
  {
   "cell_type": "markdown",
   "id": "bad2e4b5",
   "metadata": {},
   "source": [
    "Let's import required libraries"
   ]
  },
  {
   "cell_type": "markdown",
   "id": "cc3d1b90",
   "metadata": {},
   "source": [
    "Here we are using following libraries:\n",
    "1. Pandas - For importing dataset and for statistical analysis\n",
    "2. Numpy - For Working with Arrays\n",
    "3. Seaborn - Making Statistical Graphs\n",
    "4. Matplotlib - Creating Interactive Visualizations\n",
    "5. Warnings - To filter warnings"
   ]
  },
  {
   "cell_type": "code",
   "execution_count": 1,
   "id": "5cda3f12",
   "metadata": {},
   "outputs": [],
   "source": [
    "import pandas as pd\n",
    "import numpy as np\n",
    "import seaborn as sns\n",
    "import matplotlib.pyplot as plt\n",
    "import warnings \n",
    "warnings.filterwarnings('ignore')"
   ]
  },
  {
   "cell_type": "markdown",
   "id": "7453681a",
   "metadata": {},
   "source": [
    "Let's import our dataset. \n",
    "Here our data is in CSV (Comma Separated Values) format."
   ]
  },
  {
   "cell_type": "code",
   "execution_count": 2,
   "id": "9c3f6ee8",
   "metadata": {},
   "outputs": [],
   "source": [
    "df = pd.read_csv('Scraped_dataset.csv')"
   ]
  },
  {
   "cell_type": "markdown",
   "id": "160960bd",
   "metadata": {},
   "source": [
    "Let's check top 10 entries in our dataset."
   ]
  },
  {
   "cell_type": "code",
   "execution_count": 3,
   "id": "8a2c4219",
   "metadata": {},
   "outputs": [
    {
     "data": {
      "text/html": [
       "<div>\n",
       "<style scoped>\n",
       "    .dataframe tbody tr th:only-of-type {\n",
       "        vertical-align: middle;\n",
       "    }\n",
       "\n",
       "    .dataframe tbody tr th {\n",
       "        vertical-align: top;\n",
       "    }\n",
       "\n",
       "    .dataframe thead th {\n",
       "        text-align: right;\n",
       "    }\n",
       "</style>\n",
       "<table border=\"1\" class=\"dataframe\">\n",
       "  <thead>\n",
       "    <tr style=\"text-align: right;\">\n",
       "      <th></th>\n",
       "      <th>Date of Booking</th>\n",
       "      <th>Date of Journey</th>\n",
       "      <th>Airline-Class</th>\n",
       "      <th>Departure Time</th>\n",
       "      <th>Arrival Time</th>\n",
       "      <th>Duration</th>\n",
       "      <th>Total Stops</th>\n",
       "      <th>Price</th>\n",
       "    </tr>\n",
       "  </thead>\n",
       "  <tbody>\n",
       "    <tr>\n",
       "      <th>0</th>\n",
       "      <td>15/01/2023</td>\n",
       "      <td>16/01/2023</td>\n",
       "      <td>SpiceJet \\nSG-8169\\nECONOMY</td>\n",
       "      <td>20:00\\nDelhi</td>\n",
       "      <td>22:05\\nMumbai</td>\n",
       "      <td>02h 05m</td>\n",
       "      <td>non-stop</td>\n",
       "      <td>5,335</td>\n",
       "    </tr>\n",
       "    <tr>\n",
       "      <th>1</th>\n",
       "      <td>15/01/2023</td>\n",
       "      <td>16/01/2023</td>\n",
       "      <td>Indigo \\n6E-2519\\nECONOMY</td>\n",
       "      <td>23:00\\nDelhi</td>\n",
       "      <td>01:20\\nMumbai</td>\n",
       "      <td>02h 20m</td>\n",
       "      <td>non-stop</td>\n",
       "      <td>5,899</td>\n",
       "    </tr>\n",
       "    <tr>\n",
       "      <th>2</th>\n",
       "      <td>15/01/2023</td>\n",
       "      <td>16/01/2023</td>\n",
       "      <td>GO FIRST \\nG8- 354\\nECONOMY</td>\n",
       "      <td>22:30\\nDelhi</td>\n",
       "      <td>00:40\\nMumbai</td>\n",
       "      <td>02h 10m</td>\n",
       "      <td>non-stop</td>\n",
       "      <td>5,801</td>\n",
       "    </tr>\n",
       "    <tr>\n",
       "      <th>3</th>\n",
       "      <td>15/01/2023</td>\n",
       "      <td>16/01/2023</td>\n",
       "      <td>SpiceJet \\nSG-8709\\nECONOMY</td>\n",
       "      <td>18:50\\nDelhi</td>\n",
       "      <td>20:55\\nMumbai</td>\n",
       "      <td>02h 05m</td>\n",
       "      <td>non-stop</td>\n",
       "      <td>5,794</td>\n",
       "    </tr>\n",
       "    <tr>\n",
       "      <th>4</th>\n",
       "      <td>15/01/2023</td>\n",
       "      <td>16/01/2023</td>\n",
       "      <td>Air India \\nAI-805\\nECONOMY</td>\n",
       "      <td>20:00\\nDelhi</td>\n",
       "      <td>22:10\\nMumbai</td>\n",
       "      <td>02h 10m</td>\n",
       "      <td>non-stop</td>\n",
       "      <td>5,955</td>\n",
       "    </tr>\n",
       "    <tr>\n",
       "      <th>5</th>\n",
       "      <td>15/01/2023</td>\n",
       "      <td>16/01/2023</td>\n",
       "      <td>Air India \\nAI-605\\nECONOMY</td>\n",
       "      <td>21:20\\nDelhi</td>\n",
       "      <td>23:35\\nMumbai</td>\n",
       "      <td>02h 15m</td>\n",
       "      <td>non-stop</td>\n",
       "      <td>5,955</td>\n",
       "    </tr>\n",
       "    <tr>\n",
       "      <th>6</th>\n",
       "      <td>15/01/2023</td>\n",
       "      <td>16/01/2023</td>\n",
       "      <td>Air India \\nAI-814\\nECONOMY</td>\n",
       "      <td>22:30\\nDelhi</td>\n",
       "      <td>00:45\\nMumbai</td>\n",
       "      <td>02h 15m</td>\n",
       "      <td>non-stop</td>\n",
       "      <td>5,955</td>\n",
       "    </tr>\n",
       "    <tr>\n",
       "      <th>7</th>\n",
       "      <td>15/01/2023</td>\n",
       "      <td>16/01/2023</td>\n",
       "      <td>GO FIRST \\nG8- 330\\nECONOMY</td>\n",
       "      <td>21:00\\nDelhi</td>\n",
       "      <td>23:15\\nMumbai</td>\n",
       "      <td>02h 15m</td>\n",
       "      <td>non-stop</td>\n",
       "      <td>5,899</td>\n",
       "    </tr>\n",
       "    <tr>\n",
       "      <th>8</th>\n",
       "      <td>15/01/2023</td>\n",
       "      <td>16/01/2023</td>\n",
       "      <td>SpiceJet \\nSG-2976\\nECONOMY</td>\n",
       "      <td>20:10\\nDelhi</td>\n",
       "      <td>10:30\\nMumbai</td>\n",
       "      <td>14h 20m</td>\n",
       "      <td>1-stop</td>\n",
       "      <td>5,829</td>\n",
       "    </tr>\n",
       "    <tr>\n",
       "      <th>9</th>\n",
       "      <td>15/01/2023</td>\n",
       "      <td>16/01/2023</td>\n",
       "      <td>GO FIRST \\nG8- 346\\nECONOMY</td>\n",
       "      <td>20:00\\nDelhi</td>\n",
       "      <td>22:05\\nMumbai</td>\n",
       "      <td>02h 05m</td>\n",
       "      <td>non-stop</td>\n",
       "      <td>5,899</td>\n",
       "    </tr>\n",
       "  </tbody>\n",
       "</table>\n",
       "</div>"
      ],
      "text/plain": [
       "  Date of Booking Date of Journey                Airline-Class Departure Time  \\\n",
       "0      15/01/2023      16/01/2023  SpiceJet \\nSG-8169\\nECONOMY   20:00\\nDelhi   \n",
       "1      15/01/2023      16/01/2023    Indigo \\n6E-2519\\nECONOMY   23:00\\nDelhi   \n",
       "2      15/01/2023      16/01/2023  GO FIRST \\nG8- 354\\nECONOMY   22:30\\nDelhi   \n",
       "3      15/01/2023      16/01/2023  SpiceJet \\nSG-8709\\nECONOMY   18:50\\nDelhi   \n",
       "4      15/01/2023      16/01/2023  Air India \\nAI-805\\nECONOMY   20:00\\nDelhi   \n",
       "5      15/01/2023      16/01/2023  Air India \\nAI-605\\nECONOMY   21:20\\nDelhi   \n",
       "6      15/01/2023      16/01/2023  Air India \\nAI-814\\nECONOMY   22:30\\nDelhi   \n",
       "7      15/01/2023      16/01/2023  GO FIRST \\nG8- 330\\nECONOMY   21:00\\nDelhi   \n",
       "8      15/01/2023      16/01/2023  SpiceJet \\nSG-2976\\nECONOMY   20:10\\nDelhi   \n",
       "9      15/01/2023      16/01/2023  GO FIRST \\nG8- 346\\nECONOMY   20:00\\nDelhi   \n",
       "\n",
       "    Arrival Time Duration Total Stops  Price  \n",
       "0  22:05\\nMumbai  02h 05m    non-stop  5,335  \n",
       "1  01:20\\nMumbai  02h 20m    non-stop  5,899  \n",
       "2  00:40\\nMumbai  02h 10m    non-stop  5,801  \n",
       "3  20:55\\nMumbai  02h 05m    non-stop  5,794  \n",
       "4  22:10\\nMumbai  02h 10m    non-stop  5,955  \n",
       "5  23:35\\nMumbai  02h 15m    non-stop  5,955  \n",
       "6  00:45\\nMumbai  02h 15m    non-stop  5,955  \n",
       "7  23:15\\nMumbai  02h 15m    non-stop  5,899  \n",
       "8  10:30\\nMumbai  14h 20m      1-stop  5,829  \n",
       "9  22:05\\nMumbai  02h 05m    non-stop  5,899  "
      ]
     },
     "execution_count": 3,
     "metadata": {},
     "output_type": "execute_result"
    }
   ],
   "source": [
    "df.head(10)"
   ]
  },
  {
   "cell_type": "markdown",
   "id": "1826c431",
   "metadata": {},
   "source": [
    "Let's check last 10 entries in our dataset so that we will get to know that wether we have null values at the end or not."
   ]
  },
  {
   "cell_type": "code",
   "execution_count": 4,
   "id": "99fba307",
   "metadata": {},
   "outputs": [
    {
     "data": {
      "text/html": [
       "<div>\n",
       "<style scoped>\n",
       "    .dataframe tbody tr th:only-of-type {\n",
       "        vertical-align: middle;\n",
       "    }\n",
       "\n",
       "    .dataframe tbody tr th {\n",
       "        vertical-align: top;\n",
       "    }\n",
       "\n",
       "    .dataframe thead th {\n",
       "        text-align: right;\n",
       "    }\n",
       "</style>\n",
       "<table border=\"1\" class=\"dataframe\">\n",
       "  <thead>\n",
       "    <tr style=\"text-align: right;\">\n",
       "      <th></th>\n",
       "      <th>Date of Booking</th>\n",
       "      <th>Date of Journey</th>\n",
       "      <th>Airline-Class</th>\n",
       "      <th>Departure Time</th>\n",
       "      <th>Arrival Time</th>\n",
       "      <th>Duration</th>\n",
       "      <th>Total Stops</th>\n",
       "      <th>Price</th>\n",
       "    </tr>\n",
       "  </thead>\n",
       "  <tbody>\n",
       "    <tr>\n",
       "      <th>452078</th>\n",
       "      <td>15/01/2023</td>\n",
       "      <td>06/03/2023</td>\n",
       "      <td>Vistara \\nUK-966\\nBUSINESS</td>\n",
       "      <td>20:30\\nAhmedabad</td>\n",
       "      <td>20:20\\nChennai</td>\n",
       "      <td>23h 50m</td>\n",
       "      <td>1-stop</td>\n",
       "      <td>60,453</td>\n",
       "    </tr>\n",
       "    <tr>\n",
       "      <th>452079</th>\n",
       "      <td>15/01/2023</td>\n",
       "      <td>06/03/2023</td>\n",
       "      <td>Vistara \\nUK-966\\nBUSINESS</td>\n",
       "      <td>20:30\\nAhmedabad</td>\n",
       "      <td>22:40\\nChennai</td>\n",
       "      <td>26h 10m</td>\n",
       "      <td>1-stop</td>\n",
       "      <td>60,453</td>\n",
       "    </tr>\n",
       "    <tr>\n",
       "      <th>452080</th>\n",
       "      <td>15/01/2023</td>\n",
       "      <td>06/03/2023</td>\n",
       "      <td>Vistara \\nUK-936\\nBUSINESS</td>\n",
       "      <td>08:25\\nAhmedabad</td>\n",
       "      <td>16:20\\nChennai</td>\n",
       "      <td>07h 55m</td>\n",
       "      <td>1-stop</td>\n",
       "      <td>61,302</td>\n",
       "    </tr>\n",
       "    <tr>\n",
       "      <th>452081</th>\n",
       "      <td>15/01/2023</td>\n",
       "      <td>06/03/2023</td>\n",
       "      <td>Vistara \\nUK-918\\nBUSINESS</td>\n",
       "      <td>05:05\\nAhmedabad</td>\n",
       "      <td>16:20\\nChennai</td>\n",
       "      <td>11h 15m</td>\n",
       "      <td>1-stop</td>\n",
       "      <td>61,302</td>\n",
       "    </tr>\n",
       "    <tr>\n",
       "      <th>452082</th>\n",
       "      <td>15/01/2023</td>\n",
       "      <td>06/03/2023</td>\n",
       "      <td>Vistara \\nUK-946\\nBUSINESS</td>\n",
       "      <td>08:40\\nAhmedabad</td>\n",
       "      <td>19:50\\nChennai</td>\n",
       "      <td>11h 10m</td>\n",
       "      <td>1-stop</td>\n",
       "      <td>65,028</td>\n",
       "    </tr>\n",
       "    <tr>\n",
       "      <th>452083</th>\n",
       "      <td>15/01/2023</td>\n",
       "      <td>06/03/2023</td>\n",
       "      <td>Vistara \\nUK-926\\nBUSINESS</td>\n",
       "      <td>06:45\\nAhmedabad</td>\n",
       "      <td>19:50\\nChennai</td>\n",
       "      <td>13h 05m</td>\n",
       "      <td>1-stop</td>\n",
       "      <td>65,028</td>\n",
       "    </tr>\n",
       "    <tr>\n",
       "      <th>452084</th>\n",
       "      <td>15/01/2023</td>\n",
       "      <td>06/03/2023</td>\n",
       "      <td>Vistara \\nUK-918\\nBUSINESS</td>\n",
       "      <td>05:05\\nAhmedabad</td>\n",
       "      <td>16:20\\nChennai</td>\n",
       "      <td>11h 15m</td>\n",
       "      <td>1-stop</td>\n",
       "      <td>69,254</td>\n",
       "    </tr>\n",
       "    <tr>\n",
       "      <th>452085</th>\n",
       "      <td>15/01/2023</td>\n",
       "      <td>06/03/2023</td>\n",
       "      <td>Vistara \\nUK-918\\nBUSINESS</td>\n",
       "      <td>05:05\\nAhmedabad</td>\n",
       "      <td>16:20\\nChennai</td>\n",
       "      <td>11h 15m</td>\n",
       "      <td>1-stop</td>\n",
       "      <td>69,254</td>\n",
       "    </tr>\n",
       "    <tr>\n",
       "      <th>452086</th>\n",
       "      <td>15/01/2023</td>\n",
       "      <td>06/03/2023</td>\n",
       "      <td>Vistara \\nUK-946\\nBUSINESS</td>\n",
       "      <td>08:40\\nAhmedabad</td>\n",
       "      <td>19:50\\nChennai</td>\n",
       "      <td>11h 10m</td>\n",
       "      <td>1-stop</td>\n",
       "      <td>72,980</td>\n",
       "    </tr>\n",
       "    <tr>\n",
       "      <th>452087</th>\n",
       "      <td>15/01/2023</td>\n",
       "      <td>06/03/2023</td>\n",
       "      <td>Vistara \\nUK-946\\nBUSINESS</td>\n",
       "      <td>08:40\\nAhmedabad</td>\n",
       "      <td>19:50\\nChennai</td>\n",
       "      <td>11h 10m</td>\n",
       "      <td>1-stop</td>\n",
       "      <td>72,980</td>\n",
       "    </tr>\n",
       "  </tbody>\n",
       "</table>\n",
       "</div>"
      ],
      "text/plain": [
       "       Date of Booking Date of Journey               Airline-Class  \\\n",
       "452078      15/01/2023      06/03/2023  Vistara \\nUK-966\\nBUSINESS   \n",
       "452079      15/01/2023      06/03/2023  Vistara \\nUK-966\\nBUSINESS   \n",
       "452080      15/01/2023      06/03/2023  Vistara \\nUK-936\\nBUSINESS   \n",
       "452081      15/01/2023      06/03/2023  Vistara \\nUK-918\\nBUSINESS   \n",
       "452082      15/01/2023      06/03/2023  Vistara \\nUK-946\\nBUSINESS   \n",
       "452083      15/01/2023      06/03/2023  Vistara \\nUK-926\\nBUSINESS   \n",
       "452084      15/01/2023      06/03/2023  Vistara \\nUK-918\\nBUSINESS   \n",
       "452085      15/01/2023      06/03/2023  Vistara \\nUK-918\\nBUSINESS   \n",
       "452086      15/01/2023      06/03/2023  Vistara \\nUK-946\\nBUSINESS   \n",
       "452087      15/01/2023      06/03/2023  Vistara \\nUK-946\\nBUSINESS   \n",
       "\n",
       "          Departure Time    Arrival Time Duration Total Stops   Price  \n",
       "452078  20:30\\nAhmedabad  20:20\\nChennai  23h 50m      1-stop  60,453  \n",
       "452079  20:30\\nAhmedabad  22:40\\nChennai  26h 10m      1-stop  60,453  \n",
       "452080  08:25\\nAhmedabad  16:20\\nChennai  07h 55m      1-stop  61,302  \n",
       "452081  05:05\\nAhmedabad  16:20\\nChennai  11h 15m      1-stop  61,302  \n",
       "452082  08:40\\nAhmedabad  19:50\\nChennai  11h 10m      1-stop  65,028  \n",
       "452083  06:45\\nAhmedabad  19:50\\nChennai  13h 05m      1-stop  65,028  \n",
       "452084  05:05\\nAhmedabad  16:20\\nChennai  11h 15m      1-stop  69,254  \n",
       "452085  05:05\\nAhmedabad  16:20\\nChennai  11h 15m      1-stop  69,254  \n",
       "452086  08:40\\nAhmedabad  19:50\\nChennai  11h 10m      1-stop  72,980  \n",
       "452087  08:40\\nAhmedabad  19:50\\nChennai  11h 10m      1-stop  72,980  "
      ]
     },
     "execution_count": 4,
     "metadata": {},
     "output_type": "execute_result"
    }
   ],
   "source": [
    "df.tail(10)"
   ]
  },
  {
   "cell_type": "markdown",
   "id": "1984a640",
   "metadata": {},
   "source": [
    "Checking the shape of our dataset."
   ]
  },
  {
   "cell_type": "code",
   "execution_count": 5,
   "id": "c9a5275a",
   "metadata": {},
   "outputs": [
    {
     "data": {
      "text/plain": [
       "(452088, 8)"
      ]
     },
     "execution_count": 5,
     "metadata": {},
     "output_type": "execute_result"
    }
   ],
   "source": [
    "df.shape"
   ]
  },
  {
   "cell_type": "markdown",
   "id": "f7a64dc9",
   "metadata": {},
   "source": [
    "Description of different features."
   ]
  },
  {
   "cell_type": "code",
   "execution_count": 6,
   "id": "08a83167",
   "metadata": {},
   "outputs": [
    {
     "data": {
      "text/html": [
       "<div>\n",
       "<style scoped>\n",
       "    .dataframe tbody tr th:only-of-type {\n",
       "        vertical-align: middle;\n",
       "    }\n",
       "\n",
       "    .dataframe tbody tr th {\n",
       "        vertical-align: top;\n",
       "    }\n",
       "\n",
       "    .dataframe thead th {\n",
       "        text-align: right;\n",
       "    }\n",
       "</style>\n",
       "<table border=\"1\" class=\"dataframe\">\n",
       "  <thead>\n",
       "    <tr style=\"text-align: right;\">\n",
       "      <th></th>\n",
       "      <th>Date of Booking</th>\n",
       "      <th>Date of Journey</th>\n",
       "      <th>Airline-Class</th>\n",
       "      <th>Departure Time</th>\n",
       "      <th>Arrival Time</th>\n",
       "      <th>Duration</th>\n",
       "      <th>Total Stops</th>\n",
       "      <th>Price</th>\n",
       "    </tr>\n",
       "  </thead>\n",
       "  <tbody>\n",
       "    <tr>\n",
       "      <th>count</th>\n",
       "      <td>452088</td>\n",
       "      <td>452088</td>\n",
       "      <td>452088</td>\n",
       "      <td>452088</td>\n",
       "      <td>452088</td>\n",
       "      <td>452088</td>\n",
       "      <td>452088</td>\n",
       "      <td>452088</td>\n",
       "    </tr>\n",
       "    <tr>\n",
       "      <th>unique</th>\n",
       "      <td>1</td>\n",
       "      <td>50</td>\n",
       "      <td>1836</td>\n",
       "      <td>1011</td>\n",
       "      <td>1050</td>\n",
       "      <td>482</td>\n",
       "      <td>13</td>\n",
       "      <td>20781</td>\n",
       "    </tr>\n",
       "    <tr>\n",
       "      <th>top</th>\n",
       "      <td>15/01/2023</td>\n",
       "      <td>31/01/2023</td>\n",
       "      <td>Vistara \\nUK-918\\nECONOMY</td>\n",
       "      <td>20:30\\nHyderabad</td>\n",
       "      <td>19:50\\nChennai</td>\n",
       "      <td>02h 15m</td>\n",
       "      <td>1-stop</td>\n",
       "      <td>54,879</td>\n",
       "    </tr>\n",
       "    <tr>\n",
       "      <th>freq</th>\n",
       "      <td>452088</td>\n",
       "      <td>9824</td>\n",
       "      <td>2270</td>\n",
       "      <td>5772</td>\n",
       "      <td>5069</td>\n",
       "      <td>4989</td>\n",
       "      <td>366989</td>\n",
       "      <td>2702</td>\n",
       "    </tr>\n",
       "  </tbody>\n",
       "</table>\n",
       "</div>"
      ],
      "text/plain": [
       "       Date of Booking Date of Journey              Airline-Class  \\\n",
       "count           452088          452088                     452088   \n",
       "unique               1              50                       1836   \n",
       "top         15/01/2023      31/01/2023  Vistara \\nUK-918\\nECONOMY   \n",
       "freq            452088            9824                       2270   \n",
       "\n",
       "          Departure Time    Arrival Time Duration Total Stops   Price  \n",
       "count             452088          452088   452088      452088  452088  \n",
       "unique              1011            1050      482          13   20781  \n",
       "top     20:30\\nHyderabad  19:50\\nChennai  02h 15m      1-stop  54,879  \n",
       "freq                5772            5069     4989      366989    2702  "
      ]
     },
     "execution_count": 6,
     "metadata": {},
     "output_type": "execute_result"
    }
   ],
   "source": [
    "df.describe()"
   ]
  },
  {
   "cell_type": "markdown",
   "id": "f9b0837f",
   "metadata": {},
   "source": [
    "Let's check for null values using heatmap."
   ]
  },
  {
   "cell_type": "code",
   "execution_count": 7,
   "id": "3f3aafc6",
   "metadata": {},
   "outputs": [
    {
     "data": {
      "text/plain": [
       "<AxesSubplot:>"
      ]
     },
     "execution_count": 7,
     "metadata": {},
     "output_type": "execute_result"
    },
    {
     "data": {
      "image/png": "[encoded data removed]",
      "text/plain": [
       "<Figure size 432x288 with 2 Axes>"
      ]
     },
     "metadata": {
      "needs_background": "light"
     },
     "output_type": "display_data"
    }
   ],
   "source": [
    "sns.heatmap(df.isnull())"
   ]
  },
  {
   "cell_type": "markdown",
   "id": "ab70d64a",
   "metadata": {},
   "source": [
    "Count of Null values in data."
   ]
  },
  {
   "cell_type": "code",
   "execution_count": 8,
   "id": "378161f9",
   "metadata": {},
   "outputs": [
    {
     "data": {
      "text/plain": [
       "Date of Booking    0\n",
       "Date of Journey    0\n",
       "Airline-Class      0\n",
       "Departure Time     0\n",
       "Arrival Time       0\n",
       "Duration           0\n",
       "Total Stops        0\n",
       "Price              0\n",
       "dtype: int64"
      ]
     },
     "execution_count": 8,
     "metadata": {},
     "output_type": "execute_result"
    }
   ],
   "source": [
    "df.isnull().sum()"
   ]
  },
  {
   "cell_type": "markdown",
   "id": "40c2f34c",
   "metadata": {},
   "source": [
    "Let's check data types of each attribute."
   ]
  },
  {
   "cell_type": "code",
   "execution_count": 9,
   "id": "77a3926b",
   "metadata": {},
   "outputs": [
    {
     "data": {
      "text/plain": [
       "Date of Booking    object\n",
       "Date of Journey    object\n",
       "Airline-Class      object\n",
       "Departure Time     object\n",
       "Arrival Time       object\n",
       "Duration           object\n",
       "Total Stops        object\n",
       "Price              object\n",
       "dtype: object"
      ]
     },
     "execution_count": 9,
     "metadata": {},
     "output_type": "execute_result"
    }
   ],
   "source": [
    "df.dtypes"
   ]
  },
  {
   "cell_type": "markdown",
   "id": "4858791e",
   "metadata": {},
   "source": [
    "Here 'Date of Booking' and 'Date of Journey' are in object form. We need to convert them into Date format."
   ]
  },
  {
   "cell_type": "code",
   "execution_count": 10,
   "id": "7d96885a",
   "metadata": {},
   "outputs": [],
   "source": [
    "df['Date of Booking'] = pd.to_datetime(df['Date of Booking'])\n",
    "df['Date of Journey'] = pd.to_datetime(df['Date of Journey'])"
   ]
  },
  {
   "cell_type": "markdown",
   "id": "79e6b714",
   "metadata": {},
   "source": [
    "Our 'Price' column is also in object form. Let's convert it into int format."
   ]
  },
  {
   "cell_type": "code",
   "execution_count": 11,
   "id": "bc6a9386",
   "metadata": {},
   "outputs": [],
   "source": [
    "df['Price'] =df[\"Price\"].str.replace(\",\",\"\")"
   ]
  },
  {
   "cell_type": "code",
   "execution_count": 12,
   "id": "5edc9765",
   "metadata": {},
   "outputs": [],
   "source": [
    "df['Price'] = pd.to_numeric(df['Price'])"
   ]
  },
  {
   "cell_type": "code",
   "execution_count": 13,
   "id": "e66bfef7",
   "metadata": {},
   "outputs": [
    {
     "data": {
      "text/html": [
       "<div>\n",
       "<style scoped>\n",
       "    .dataframe tbody tr th:only-of-type {\n",
       "        vertical-align: middle;\n",
       "    }\n",
       "\n",
       "    .dataframe tbody tr th {\n",
       "        vertical-align: top;\n",
       "    }\n",
       "\n",
       "    .dataframe thead th {\n",
       "        text-align: right;\n",
       "    }\n",
       "</style>\n",
       "<table border=\"1\" class=\"dataframe\">\n",
       "  <thead>\n",
       "    <tr style=\"text-align: right;\">\n",
       "      <th></th>\n",
       "      <th>Date of Booking</th>\n",
       "      <th>Date of Journey</th>\n",
       "      <th>Airline-Class</th>\n",
       "      <th>Departure Time</th>\n",
       "      <th>Arrival Time</th>\n",
       "      <th>Duration</th>\n",
       "      <th>Total Stops</th>\n",
       "      <th>Price</th>\n",
       "    </tr>\n",
       "  </thead>\n",
       "  <tbody>\n",
       "    <tr>\n",
       "      <th>0</th>\n",
       "      <td>2023-01-15</td>\n",
       "      <td>2023-01-16</td>\n",
       "      <td>SpiceJet \\nSG-8169\\nECONOMY</td>\n",
       "      <td>20:00\\nDelhi</td>\n",
       "      <td>22:05\\nMumbai</td>\n",
       "      <td>02h 05m</td>\n",
       "      <td>non-stop</td>\n",
       "      <td>5335</td>\n",
       "    </tr>\n",
       "    <tr>\n",
       "      <th>1</th>\n",
       "      <td>2023-01-15</td>\n",
       "      <td>2023-01-16</td>\n",
       "      <td>Indigo \\n6E-2519\\nECONOMY</td>\n",
       "      <td>23:00\\nDelhi</td>\n",
       "      <td>01:20\\nMumbai</td>\n",
       "      <td>02h 20m</td>\n",
       "      <td>non-stop</td>\n",
       "      <td>5899</td>\n",
       "    </tr>\n",
       "    <tr>\n",
       "      <th>2</th>\n",
       "      <td>2023-01-15</td>\n",
       "      <td>2023-01-16</td>\n",
       "      <td>GO FIRST \\nG8- 354\\nECONOMY</td>\n",
       "      <td>22:30\\nDelhi</td>\n",
       "      <td>00:40\\nMumbai</td>\n",
       "      <td>02h 10m</td>\n",
       "      <td>non-stop</td>\n",
       "      <td>5801</td>\n",
       "    </tr>\n",
       "    <tr>\n",
       "      <th>3</th>\n",
       "      <td>2023-01-15</td>\n",
       "      <td>2023-01-16</td>\n",
       "      <td>SpiceJet \\nSG-8709\\nECONOMY</td>\n",
       "      <td>18:50\\nDelhi</td>\n",
       "      <td>20:55\\nMumbai</td>\n",
       "      <td>02h 05m</td>\n",
       "      <td>non-stop</td>\n",
       "      <td>5794</td>\n",
       "    </tr>\n",
       "    <tr>\n",
       "      <th>4</th>\n",
       "      <td>2023-01-15</td>\n",
       "      <td>2023-01-16</td>\n",
       "      <td>Air India \\nAI-805\\nECONOMY</td>\n",
       "      <td>20:00\\nDelhi</td>\n",
       "      <td>22:10\\nMumbai</td>\n",
       "      <td>02h 10m</td>\n",
       "      <td>non-stop</td>\n",
       "      <td>5955</td>\n",
       "    </tr>\n",
       "    <tr>\n",
       "      <th>...</th>\n",
       "      <td>...</td>\n",
       "      <td>...</td>\n",
       "      <td>...</td>\n",
       "      <td>...</td>\n",
       "      <td>...</td>\n",
       "      <td>...</td>\n",
       "      <td>...</td>\n",
       "      <td>...</td>\n",
       "    </tr>\n",
       "    <tr>\n",
       "      <th>452083</th>\n",
       "      <td>2023-01-15</td>\n",
       "      <td>2023-06-03</td>\n",
       "      <td>Vistara \\nUK-926\\nBUSINESS</td>\n",
       "      <td>06:45\\nAhmedabad</td>\n",
       "      <td>19:50\\nChennai</td>\n",
       "      <td>13h 05m</td>\n",
       "      <td>1-stop</td>\n",
       "      <td>65028</td>\n",
       "    </tr>\n",
       "    <tr>\n",
       "      <th>452084</th>\n",
       "      <td>2023-01-15</td>\n",
       "      <td>2023-06-03</td>\n",
       "      <td>Vistara \\nUK-918\\nBUSINESS</td>\n",
       "      <td>05:05\\nAhmedabad</td>\n",
       "      <td>16:20\\nChennai</td>\n",
       "      <td>11h 15m</td>\n",
       "      <td>1-stop</td>\n",
       "      <td>69254</td>\n",
       "    </tr>\n",
       "    <tr>\n",
       "      <th>452085</th>\n",
       "      <td>2023-01-15</td>\n",
       "      <td>2023-06-03</td>\n",
       "      <td>Vistara \\nUK-918\\nBUSINESS</td>\n",
       "      <td>05:05\\nAhmedabad</td>\n",
       "      <td>16:20\\nChennai</td>\n",
       "      <td>11h 15m</td>\n",
       "      <td>1-stop</td>\n",
       "      <td>69254</td>\n",
       "    </tr>\n",
       "    <tr>\n",
       "      <th>452086</th>\n",
       "      <td>2023-01-15</td>\n",
       "      <td>2023-06-03</td>\n",
       "      <td>Vistara \\nUK-946\\nBUSINESS</td>\n",
       "      <td>08:40\\nAhmedabad</td>\n",
       "      <td>19:50\\nChennai</td>\n",
       "      <td>11h 10m</td>\n",
       "      <td>1-stop</td>\n",
       "      <td>72980</td>\n",
       "    </tr>\n",
       "    <tr>\n",
       "      <th>452087</th>\n",
       "      <td>2023-01-15</td>\n",
       "      <td>2023-06-03</td>\n",
       "      <td>Vistara \\nUK-946\\nBUSINESS</td>\n",
       "      <td>08:40\\nAhmedabad</td>\n",
       "      <td>19:50\\nChennai</td>\n",
       "      <td>11h 10m</td>\n",
       "      <td>1-stop</td>\n",
       "      <td>72980</td>\n",
       "    </tr>\n",
       "  </tbody>\n",
       "</table>\n",
       "<p>452088 rows × 8 columns</p>\n",
       "</div>"
      ],
      "text/plain": [
       "       Date of Booking Date of Journey                Airline-Class  \\\n",
       "0           2023-01-15      2023-01-16  SpiceJet \\nSG-8169\\nECONOMY   \n",
       "1           2023-01-15      2023-01-16    Indigo \\n6E-2519\\nECONOMY   \n",
       "2           2023-01-15      2023-01-16  GO FIRST \\nG8- 354\\nECONOMY   \n",
       "3           2023-01-15      2023-01-16  SpiceJet \\nSG-8709\\nECONOMY   \n",
       "4           2023-01-15      2023-01-16  Air India \\nAI-805\\nECONOMY   \n",
       "...                ...             ...                          ...   \n",
       "452083      2023-01-15      2023-06-03   Vistara \\nUK-926\\nBUSINESS   \n",
       "452084      2023-01-15      2023-06-03   Vistara \\nUK-918\\nBUSINESS   \n",
       "452085      2023-01-15      2023-06-03   Vistara \\nUK-918\\nBUSINESS   \n",
       "452086      2023-01-15      2023-06-03   Vistara \\nUK-946\\nBUSINESS   \n",
       "452087      2023-01-15      2023-06-03   Vistara \\nUK-946\\nBUSINESS   \n",
       "\n",
       "          Departure Time    Arrival Time Duration Total Stops  Price  \n",
       "0           20:00\\nDelhi   22:05\\nMumbai  02h 05m    non-stop   5335  \n",
       "1           23:00\\nDelhi   01:20\\nMumbai  02h 20m    non-stop   5899  \n",
       "2           22:30\\nDelhi   00:40\\nMumbai  02h 10m    non-stop   5801  \n",
       "3           18:50\\nDelhi   20:55\\nMumbai  02h 05m    non-stop   5794  \n",
       "4           20:00\\nDelhi   22:10\\nMumbai  02h 10m    non-stop   5955  \n",
       "...                  ...             ...      ...         ...    ...  \n",
       "452083  06:45\\nAhmedabad  19:50\\nChennai  13h 05m      1-stop  65028  \n",
       "452084  05:05\\nAhmedabad  16:20\\nChennai  11h 15m      1-stop  69254  \n",
       "452085  05:05\\nAhmedabad  16:20\\nChennai  11h 15m      1-stop  69254  \n",
       "452086  08:40\\nAhmedabad  19:50\\nChennai  11h 10m      1-stop  72980  \n",
       "452087  08:40\\nAhmedabad  19:50\\nChennai  11h 10m      1-stop  72980  \n",
       "\n",
       "[452088 rows x 8 columns]"
      ]
     },
     "execution_count": 13,
     "metadata": {},
     "output_type": "execute_result"
    }
   ],
   "source": [
    "df"
   ]
  },
  {
   "cell_type": "markdown",
   "id": "e246cee4",
   "metadata": {},
   "source": [
    "We need to change the names of columns so that it will not throw error in future."
   ]
  },
  {
   "cell_type": "code",
   "execution_count": 14,
   "id": "42d84fdb",
   "metadata": {},
   "outputs": [],
   "source": [
    "df.rename(columns = {'Date of Booking':'Date_of_Booking','Date of Journey':'Date_of_Journey','Airline-Class':'Airline_Class',\n",
    "                    'Departure Time':'Departure_Time','Arrival Time':'Arrival_Time','Total Stops':'Total_Stops'},inplace = True)"
   ]
  },
  {
   "cell_type": "markdown",
   "id": "619b65f1",
   "metadata": {},
   "source": [
    "In the column 'Airline_Class', we have three different features in combine format. We need to separate them.\n",
    "Let's drop the 'Airline_Class' column and separate it into three features :\n",
    "1. Airline\n",
    "2. Flight\n",
    "3. Class"
   ]
  },
  {
   "cell_type": "code",
   "execution_count": 15,
   "id": "79362b8c",
   "metadata": {},
   "outputs": [],
   "source": [
    "df[['Airline','Flight','Class']] = df.Airline_Class.str.split(\"\\n\",expand = True)\n",
    "df = df.drop('Airline_Class',axis = 1)"
   ]
  },
  {
   "cell_type": "markdown",
   "id": "68651536",
   "metadata": {},
   "source": [
    "In 'Departure_Time' and 'Arrival_Time' we have two features in combine.\n",
    "Let's drop 'Departure_Time' and 'Arrival_Time' columns and separate it into:\n",
    "1. Departure_time & Departure_Location\n",
    "2. Arrival_time & Arrival_Location"
   ]
  },
  {
   "cell_type": "code",
   "execution_count": 16,
   "id": "aa4f1f49",
   "metadata": {},
   "outputs": [],
   "source": [
    "df[['Departure_time','Departure_Location']] = df.Departure_Time.str.split('\\n',expand = True)\n",
    "df[['Arrival_time','Arrival_Location']] = df.Arrival_Time.str.split('\\n',expand = True)\n",
    "df = df.drop('Departure_Time',axis = 1)\n",
    "df = df.drop('Arrival_Time',axis = 1)"
   ]
  },
  {
   "cell_type": "markdown",
   "id": "bdea0a02",
   "metadata": {},
   "source": [
    "Look for count of unique values in each feature."
   ]
  },
  {
   "cell_type": "code",
   "execution_count": 17,
   "id": "88cbcfab",
   "metadata": {},
   "outputs": [
    {
     "data": {
      "text/plain": [
       "Date_of_Booking           1\n",
       "Date_of_Journey          50\n",
       "Duration                482\n",
       "Total_Stops              13\n",
       "Price                 20781\n",
       "Airline                   9\n",
       "Flight                 1405\n",
       "Class                     4\n",
       "Departure_time          257\n",
       "Departure_Location        7\n",
       "Arrival_time            266\n",
       "Arrival_Location          7\n",
       "dtype: int64"
      ]
     },
     "execution_count": 17,
     "metadata": {},
     "output_type": "execute_result"
    }
   ],
   "source": [
    "df.nunique()"
   ]
  },
  {
   "cell_type": "markdown",
   "id": "94a5e5a0",
   "metadata": {},
   "source": [
    "Let's check how many categorical features we have"
   ]
  },
  {
   "cell_type": "code",
   "execution_count": 18,
   "id": "5148ee4f",
   "metadata": {},
   "outputs": [
    {
     "data": {
      "text/plain": [
       "['Duration',\n",
       " 'Total_Stops',\n",
       " 'Airline',\n",
       " 'Flight',\n",
       " 'Class',\n",
       " 'Departure_time',\n",
       " 'Departure_Location',\n",
       " 'Arrival_time',\n",
       " 'Arrival_Location']"
      ]
     },
     "execution_count": 18,
     "metadata": {},
     "output_type": "execute_result"
    }
   ],
   "source": [
    "categorical_features = [features for features in df.columns if df[features].dtype == 'O']\n",
    "categorical_features"
   ]
  },
  {
   "cell_type": "markdown",
   "id": "e0e8a3c5",
   "metadata": {},
   "source": [
    "### Univariate Analysis"
   ]
  },
  {
   "cell_type": "code",
   "execution_count": 19,
   "id": "36fa8a73",
   "metadata": {},
   "outputs": [
    {
     "data": {
      "text/plain": [
       "Text(0.5, 1.0, 'CLASS')"
      ]
     },
     "execution_count": 19,
     "metadata": {},
     "output_type": "execute_result"
    },
    {
     "data": {
      "image/png": "[encoded data removed]",
      "text/plain": [
       "<Figure size 720x360 with 1 Axes>"
      ]
     },
     "metadata": {
      "needs_background": "light"
     },
     "output_type": "display_data"
    }
   ],
   "source": [
    "plt.figure(figsize = (10,5))\n",
    "sns.countplot(data = df, x = 'Class')\n",
    "plt.title('CLASS')"
   ]
  },
  {
   "cell_type": "markdown",
   "id": "5b546392",
   "metadata": {},
   "source": [
    "Here we can conclude that most of the passangers are from 'ECONOMY' class."
   ]
  },
  {
   "cell_type": "code",
   "execution_count": 20,
   "id": "cb751fbd",
   "metadata": {},
   "outputs": [
    {
     "data": {
      "text/plain": [
       "Text(0.5, 1.0, 'AIRLINE')"
      ]
     },
     "execution_count": 20,
     "metadata": {},
     "output_type": "execute_result"
    },
    {
     "data": {
      "image/png": "[encoded data removed]",
      "text/plain": [
       "<Figure size 720x360 with 1 Axes>"
      ]
     },
     "metadata": {
      "needs_background": "light"
     },
     "output_type": "display_data"
    }
   ],
   "source": [
    "plt.figure(figsize = (10,5))\n",
    "sns.countplot(data = df, x = 'Airline')\n",
    "plt.title('AIRLINE')"
   ]
  },
  {
   "cell_type": "markdown",
   "id": "6c1402fe",
   "metadata": {},
   "source": [
    "Here we can see that 'Vistara' is making most of the passangers."
   ]
  },
  {
   "cell_type": "code",
   "execution_count": 21,
   "id": "7c0bb69c",
   "metadata": {},
   "outputs": [
    {
     "data": {
      "text/plain": [
       "Text(0.5, 1.0, 'Departure')"
      ]
     },
     "execution_count": 21,
     "metadata": {},
     "output_type": "execute_result"
    },
    {
     "data": {
      "image/png": "[encoded data removed]",
      "text/plain": [
       "<Figure size 720x360 with 1 Axes>"
      ]
     },
     "metadata": {
      "needs_background": "light"
     },
     "output_type": "display_data"
    }
   ],
   "source": [
    "plt.figure(figsize = (10,5))\n",
    "sns.countplot(data = df, x = 'Departure_Location')\n",
    "plt.title(\"Departure\")"
   ]
  },
  {
   "cell_type": "code",
   "execution_count": 22,
   "id": "002a825c",
   "metadata": {},
   "outputs": [
    {
     "data": {
      "text/plain": [
       "Text(0.5, 1.0, 'Arrival')"
      ]
     },
     "execution_count": 22,
     "metadata": {},
     "output_type": "execute_result"
    },
    {
     "data": {
      "image/png": "[encoded data removed]",
      "text/plain": [
       "<Figure size 720x360 with 1 Axes>"
      ]
     },
     "metadata": {
      "needs_background": "light"
     },
     "output_type": "display_data"
    }
   ],
   "source": [
    "plt.figure(figsize = (10,5))\n",
    "sns.countplot(data = df, x = 'Arrival_Location')\n",
    "plt.title('Arrival')"
   ]
  },
  {
   "cell_type": "markdown",
   "id": "703d14c0",
   "metadata": {},
   "source": [
    "Here we can see that 'Delhi', 'Mumbai', 'Bangalore' are contributing most."
   ]
  },
  {
   "cell_type": "code",
   "execution_count": 23,
   "id": "feea91c8",
   "metadata": {},
   "outputs": [
    {
     "data": {
      "text/plain": [
       "array(['non-stop', '1-stop', '2+-stop',\n",
       "       '1-stop\\n\\t\\t\\t\\t\\t\\t\\t\\t\\t\\t\\t\\tVia Indore',\n",
       "       '1-stop\\n\\t\\t\\t\\t\\t\\t\\t\\t\\t\\t\\t\\tVia IDR',\n",
       "       '1-stop\\n\\t\\t\\t\\t\\t\\t\\t\\t\\t\\t\\t\\tVia DIB',\n",
       "       '1-stop\\n\\t\\t\\t\\t\\t\\t\\t\\t\\t\\t\\t\\tVia Guwahati',\n",
       "       '1-stop\\n\\t\\t\\t\\t\\t\\t\\t\\t\\t\\t\\t\\tVia VTZ',\n",
       "       '1-stop\\n\\t\\t\\t\\t\\t\\t\\t\\t\\t\\t\\t\\tVia RPR',\n",
       "       '1-stop\\n\\t\\t\\t\\t\\t\\t\\t\\t\\t\\t\\t\\tVia Mumbai',\n",
       "       '1-stop\\n\\t\\t\\t\\t\\t\\t\\t\\t\\t\\t\\t\\tVia Delhi',\n",
       "       '1-stop\\n\\t\\t\\t\\t\\t\\t\\t\\t\\t\\t\\t\\tVia Pune',\n",
       "       '1-stop\\n\\t\\t\\t\\t\\t\\t\\t\\t\\t\\t\\t\\tVia PNQ'], dtype=object)"
      ]
     },
     "execution_count": 23,
     "metadata": {},
     "output_type": "execute_result"
    }
   ],
   "source": [
    "df['Total_Stops'].unique()"
   ]
  },
  {
   "cell_type": "code",
   "execution_count": 24,
   "id": "6ae8d48b",
   "metadata": {},
   "outputs": [],
   "source": [
    "listt = ['\\n','\\t','Via IDR','Via Indore','Via DIB','Via Guwahati','Via VTZ','Via RPR','Via Mumbai','Via Delhi','Via Pune','Via PNQ']\n",
    "for x in listt:\n",
    "    df['Total_Stops'] = df['Total_Stops'].str.replace(x,\"\")"
   ]
  },
  {
   "cell_type": "code",
   "execution_count": 25,
   "id": "b89f78be",
   "metadata": {},
   "outputs": [
    {
     "data": {
      "text/plain": [
       "array(['non-stop', '1-stop', '2+-stop'], dtype=object)"
      ]
     },
     "execution_count": 25,
     "metadata": {},
     "output_type": "execute_result"
    }
   ],
   "source": [
    "df['Total_Stops'].unique()"
   ]
  },
  {
   "cell_type": "code",
   "execution_count": 26,
   "id": "c2cf02be",
   "metadata": {},
   "outputs": [
    {
     "data": {
      "text/plain": [
       "Text(0.5, 1.0, 'Total Stops')"
      ]
     },
     "execution_count": 26,
     "metadata": {},
     "output_type": "execute_result"
    },
    {
     "data": {
      "image/png": "[encoded data removed]",
      "text/plain": [
       "<Figure size 720x360 with 1 Axes>"
      ]
     },
     "metadata": {
      "needs_background": "light"
     },
     "output_type": "display_data"
    }
   ],
   "source": [
    "plt.figure(figsize = (10,5))\n",
    "sns.countplot(data = df, x = 'Total_Stops')\n",
    "plt.title('Total Stops')"
   ]
  },
  {
   "cell_type": "markdown",
   "id": "5c34c90a",
   "metadata": {},
   "source": [
    "Here we can see that most of the passangers are taking at least one stop."
   ]
  },
  {
   "cell_type": "code",
   "execution_count": 27,
   "id": "4200f9e5",
   "metadata": {},
   "outputs": [
    {
     "data": {
      "text/plain": [
       "<AxesSubplot:xlabel='Price', ylabel='Density'>"
      ]
     },
     "execution_count": 27,
     "metadata": {},
     "output_type": "execute_result"
    },
    {
     "data": {
      "image/png": "[encoded data removed]",
      "text/plain": [
       "<Figure size 720x360 with 1 Axes>"
      ]
     },
     "metadata": {
      "needs_background": "light"
     },
     "output_type": "display_data"
    }
   ],
   "source": [
    "plt.figure(figsize = (10,5))\n",
    "sns.kdeplot(data = df, x = 'Price', color = 'Purple')"
   ]
  },
  {
   "cell_type": "code",
   "execution_count": 28,
   "id": "f034946b",
   "metadata": {},
   "outputs": [
    {
     "data": {
      "text/plain": [
       "<AxesSubplot:xlabel='Price'>"
      ]
     },
     "execution_count": 28,
     "metadata": {},
     "output_type": "execute_result"
    },
    {
     "data": {
      "image/png": "[encoded data removed]",
      "text/plain": [
       "<Figure size 720x360 with 1 Axes>"
      ]
     },
     "metadata": {
      "needs_background": "light"
     },
     "output_type": "display_data"
    }
   ],
   "source": [
    "plt.figure(figsize = (10,5))\n",
    "sns.boxplot(data = df, x = 'Price')"
   ]
  },
  {
   "cell_type": "markdown",
   "id": "1588d9fd",
   "metadata": {},
   "source": [
    "### Bivariate Analysis"
   ]
  },
  {
   "cell_type": "code",
   "execution_count": 29,
   "id": "1ebd3353",
   "metadata": {},
   "outputs": [
    {
     "data": {
      "text/plain": [
       "Text(0.5, 1.0, 'Class vs Price')"
      ]
     },
     "execution_count": 29,
     "metadata": {},
     "output_type": "execute_result"
    },
    {
     "data": {
      "image/png": "[encoded data removed]",
      "text/plain": [
       "<Figure size 576x576 with 1 Axes>"
      ]
     },
     "metadata": {},
     "output_type": "display_data"
    }
   ],
   "source": [
    "plt.figure(figsize = (8,8))\n",
    "df.groupby(df['Class'])['Price'].sum().plot(kind='pie')\n",
    "plt.title('Class vs Price')"
   ]
  },
  {
   "cell_type": "markdown",
   "id": "af8d5508",
   "metadata": {},
   "source": [
    "From above we can conclude that the 'Business Class' is making most of the money for airline companies."
   ]
  },
  {
   "cell_type": "code",
   "execution_count": 30,
   "id": "c0a1f13f",
   "metadata": {},
   "outputs": [
    {
     "data": {
      "text/plain": [
       "<AxesSubplot:ylabel='Price'>"
      ]
     },
     "execution_count": 30,
     "metadata": {},
     "output_type": "execute_result"
    },
    {
     "data": {
      "image/png": "[encoded data removed]",
      "text/plain": [
       "<Figure size 576x576 with 1 Axes>"
      ]
     },
     "metadata": {},
     "output_type": "display_data"
    }
   ],
   "source": [
    "plt.figure(figsize = (8,8))\n",
    "df.groupby(df['Airline'])['Price'].sum().plot(kind='pie')"
   ]
  },
  {
   "cell_type": "markdown",
   "id": "3a0b15a3",
   "metadata": {},
   "source": [
    "From graph we can see that 'Vistara' and 'Air India' are most profit making companies."
   ]
  },
  {
   "cell_type": "code",
   "execution_count": 31,
   "id": "4dac9084",
   "metadata": {},
   "outputs": [
    {
     "data": {
      "text/plain": [
       "Departure_Location  Airline     \n",
       "Ahmedabad           Air India        242651123\n",
       "                    AkasaAir           1369802\n",
       "                    AllianceAir         231364\n",
       "                    GO FIRST          10073279\n",
       "                    Indigo            57615991\n",
       "                    SpiceJet           4664807\n",
       "                    Vistara          708758455\n",
       "Bangalore           Air India        535180290\n",
       "                    AirAsia           23990490\n",
       "                    AkasaAir           2694891\n",
       "                    AllianceAir         344249\n",
       "                    GO FIRST          16392558\n",
       "                    Indigo            66227792\n",
       "                    SpiceJet           5653231\n",
       "                    StarAir             445687\n",
       "                    Vistara         1047256767\n",
       "Chennai             Air India        474447085\n",
       "                    AirAsia            6730066\n",
       "                    AkasaAir            932045\n",
       "                    AllianceAir         192150\n",
       "                    GO FIRST           2899968\n",
       "                    Indigo            67293801\n",
       "                    SpiceJet           6789312\n",
       "                    Vistara          746154842\n",
       "Delhi               Air India        534421112\n",
       "                    AirAsia           33423681\n",
       "                    AkasaAir            776470\n",
       "                    AllianceAir         232659\n",
       "                    GO FIRST          24840701\n",
       "                    Indigo            94446374\n",
       "                    SpiceJet          14345989\n",
       "                    Vistara         1002457541\n",
       "Hyderabad           Air India        378917025\n",
       "                    AirAsia           14385646\n",
       "                    AkasaAir            115073\n",
       "                    AllianceAir         572132\n",
       "                    GO FIRST            905175\n",
       "                    Indigo            79434541\n",
       "                    SpiceJet           1151911\n",
       "                    StarAir              71950\n",
       "                    Vistara          771076623\n",
       "Kolkata             Air India        396780773\n",
       "                    AirAsia           21372185\n",
       "                    GO FIRST          15632964\n",
       "                    Indigo           102650142\n",
       "                    SpiceJet           7753374\n",
       "                    Vistara          875576671\n",
       "Mumbai              Air India        663074411\n",
       "                    AirAsia           11900412\n",
       "                    AkasaAir           2072896\n",
       "                    AllianceAir          29904\n",
       "                    GO FIRST          15705954\n",
       "                    Indigo            70653401\n",
       "                    SpiceJet           7188976\n",
       "                    StarAir              89515\n",
       "                    Vistara         1154689305\n",
       "Name: Price, dtype: int64"
      ]
     },
     "execution_count": 31,
     "metadata": {},
     "output_type": "execute_result"
    }
   ],
   "source": [
    "df.groupby(['Departure_Location','Airline'])['Price'].sum()"
   ]
  },
  {
   "cell_type": "code",
   "execution_count": 32,
   "id": "5164fbb4",
   "metadata": {},
   "outputs": [
    {
     "data": {
      "text/plain": [
       "Text(0.5, 1.0, 'Total stops vs Price')"
      ]
     },
     "execution_count": 32,
     "metadata": {},
     "output_type": "execute_result"
    },
    {
     "data": {
      "image/png": "[encoded data removed]",
      "text/plain": [
       "<Figure size 576x576 with 1 Axes>"
      ]
     },
     "metadata": {},
     "output_type": "display_data"
    }
   ],
   "source": [
    "plt.figure(figsize=(8,8))\n",
    "df.groupby(df['Total_Stops'])['Price'].sum().plot(kind='pie')\n",
    "plt.title('Total stops vs Price')"
   ]
  },
  {
   "cell_type": "markdown",
   "id": "cb060241",
   "metadata": {},
   "source": [
    "From above pie chart, it is clear that one stop passengers are the most money making customers for company."
   ]
  },
  {
   "cell_type": "code",
   "execution_count": 33,
   "id": "8d1c1b0b",
   "metadata": {},
   "outputs": [
    {
     "data": {
      "text/plain": [
       "<AxesSubplot:xlabel='Class,Airline'>"
      ]
     },
     "execution_count": 33,
     "metadata": {},
     "output_type": "execute_result"
    },
    {
     "data": {
      "image/png": "[encoded data removed]",
      "text/plain": [
       "<Figure size 720x360 with 1 Axes>"
      ]
     },
     "metadata": {
      "needs_background": "light"
     },
     "output_type": "display_data"
    }
   ],
   "source": [
    "plt.figure(figsize = (10,5))\n",
    "df.groupby('Class')['Airline'].value_counts().plot.bar()"
   ]
  },
  {
   "cell_type": "markdown",
   "id": "64a88501",
   "metadata": {},
   "source": [
    "From above it is clear that for 'Vistara' company, 'Economy' passangers are more profit making customers."
   ]
  },
  {
   "cell_type": "markdown",
   "id": "3313f7d1",
   "metadata": {},
   "source": [
    "### Conclusion:"
   ]
  },
  {
   "cell_type": "markdown",
   "id": "c602bcc3",
   "metadata": {},
   "source": [
    "From the analysis we did, we can conclude that:\n",
    "1. Vistara is the preffered airline of passangers.\n",
    "2. Economy class passanger have most constribution in price.\n",
    "3. 'Mumbai', 'Delhi' and 'Bangalore' has most passangers.\n",
    "4. One stop passangers are contributing most to the price."
   ]
  }
 ],
 "metadata": {
  "kernelspec": {
   "display_name": "Python 3 (ipykernel)",
   "language": "python",
   "name": "python3"
  },
  "language_info": {
   "codemirror_mode": {
    "name": "ipython",
    "version": 3
   },
   "file_extension": ".py",
   "mimetype": "text/x-python",
   "name": "python",
   "nbconvert_exporter": "python",
   "pygments_lexer": "ipython3",
   "version": "3.9.12"
  }
 },
 "nbformat": 4,
 "nbformat_minor": 5
}
